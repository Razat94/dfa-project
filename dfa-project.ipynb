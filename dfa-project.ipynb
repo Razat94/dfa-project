{
 "cells": [
  {
   "cell_type": "markdown",
   "metadata": {},
   "source": [
    "#### Let's import the libraries"
   ]
  },
  {
   "cell_type": "code",
   "execution_count": 1,
   "metadata": {},
   "outputs": [],
   "source": [
    "import pandas as pd\n",
    "import numpy as np\n",
    "import seaborn as sea\n",
    "import matplotlib.pyplot as plt\n",
    "# The line below was taken from here:\n",
    "# https://stackoverflow.com/questions/20625582/how-to-deal-with-settingwithcopywarning-in-pandas\n",
    "pd.options.mode.chained_assignment = None  # default='warn'"
   ]
  },
  {
   "cell_type": "markdown",
   "metadata": {},
   "source": [
    "#### Let's import the data"
   ]
  },
  {
   "cell_type": "code",
   "execution_count": 2,
   "metadata": {},
   "outputs": [],
   "source": [
    "# import the data file into variable pdf aka \"practice data file\" \n",
    "pdf = pd.read_csv(\"/home/linux/Desktop/dfa-project/practice-dfa.csv\")"
   ]
  },
  {
   "cell_type": "code",
   "execution_count": 3,
   "metadata": {},
   "outputs": [
    {
     "name": "stdout",
     "output_type": "stream",
     "text": [
      "Date         object\n",
      "Category     object\n",
      "Net worth     int64\n",
      "Assets        int64\n",
      "dtype: object\n"
     ]
    }
   ],
   "source": [
    "# for x in df: print(x)  \n",
    "print(pdf.dtypes)"
   ]
  },
  {
   "cell_type": "markdown",
   "metadata": {},
   "source": [
    "### An interesting thing to note: </p>\n",
    "<p> Although the data type of the \"Date\" object is a series: </p>"
   ]
  },
  {
   "cell_type": "code",
   "execution_count": 4,
   "metadata": {},
   "outputs": [
    {
     "name": "stdout",
     "output_type": "stream",
     "text": [
      "<class 'pandas.core.series.Series'>\n"
     ]
    }
   ],
   "source": [
    "print ( type( pdf[\"Date\"] ) )"
   ]
  },
  {
   "cell_type": "markdown",
   "metadata": {},
   "source": [
    "<p> The actual data value of the individual values are strings. Let's look at the first year as an example </p>"
   ]
  },
  {
   "cell_type": "code",
   "execution_count": 5,
   "metadata": {},
   "outputs": [
    {
     "name": "stdout",
     "output_type": "stream",
     "text": [
      "('1990:Q1', <type 'str'>)\n"
     ]
    }
   ],
   "source": [
    "print ( pdf[\"Date\"][0], type(pdf[\"Date\"][0]) )"
   ]
  },
  {
   "cell_type": "markdown",
   "metadata": {},
   "source": [
    "[Source on how to determine a python variables type](https://stackoverflow.com/questions/402504/how-to-determine-a-python-variables-type)"
   ]
  },
  {
   "cell_type": "markdown",
   "metadata": {},
   "source": [
    "<p> This is just something to keep in mind </p>"
   ]
  },
  {
   "cell_type": "markdown",
   "metadata": {},
   "source": [
    "<p> Let's print the number of records </p>"
   ]
  },
  {
   "cell_type": "code",
   "execution_count": 6,
   "metadata": {},
   "outputs": [
    {
     "name": "stdout",
     "output_type": "stream",
     "text": [
      "Number of records:\n",
      "32\n"
     ]
    }
   ],
   "source": [
    "print(\"Number of records:\")\n",
    "print(pdf[\"Date\"].size)"
   ]
  },
  {
   "cell_type": "markdown",
   "metadata": {},
   "source": [
    "<p> Let's print the actual data </p>"
   ]
  },
  {
   "cell_type": "code",
   "execution_count": 7,
   "metadata": {},
   "outputs": [
    {
     "name": "stdout",
     "output_type": "stream",
     "text": [
      "Actual Data:\n",
      "       Date  Category  Net worth   Assets\n",
      "0   1990:Q1      Top1    4804166  4937954\n",
      "1   1990:Q1     Next9    7673540  8185951\n",
      "2   1990:Q1    Next40    7389240  9002529\n",
      "3   1990:Q1  Bottom50     745375  1754951\n",
      "4   1990:Q2      Top1    4853012  4990769\n",
      "5   1990:Q2     Next9    7817059  8337327\n",
      "6   1990:Q2    Next40    7401466  9076700\n",
      "7   1990:Q2  Bottom50     768987  1771551\n",
      "8   1990:Q3      Top1    4650622  4796349\n",
      "9   1990:Q3     Next9    7796971  8325985\n",
      "10  1990:Q3    Next40    7476539  9147832\n",
      "11  1990:Q3  Bottom50     760551  1807703\n",
      "12  1990:Q4      Top1    4896405  5047552\n",
      "13  1990:Q4     Next9    7856916  8391995\n",
      "14  1990:Q4    Next40    7578682  9304035\n",
      "15  1990:Q4  Bottom50     774243  1814823\n",
      "16  1991:Q1      Top1    5218517  5372273\n",
      "17  1991:Q1     Next9    7910273  8443017\n",
      "18  1991:Q1    Next40    7664904  9462264\n",
      "19  1991:Q1  Bottom50     872879  1861797\n",
      "20  1991:Q2      Top1    5178317  5334449\n",
      "21  1991:Q2     Next9    7917859  8467829\n",
      "22  1991:Q2    Next40    7711572  9529863\n",
      "23  1991:Q2  Bottom50     897371  1904202\n",
      "24  1991:Q3      Top1    5283975  5435698\n",
      "25  1991:Q3     Next9    7905094  8496083\n",
      "26  1991:Q3    Next40    7912976  9667316\n",
      "27  1991:Q3  Bottom50     878020  1946758\n",
      "28  1991:Q4      Top1    5608407  5759094\n",
      "29  1991:Q4     Next9    8007424  8633023\n",
      "30  1991:Q4    Next40    8042088  9811143\n",
      "31  1991:Q4  Bottom50     921241  2019557\n"
     ]
    }
   ],
   "source": [
    "print(\"Actual Data:\")\n",
    "print((pdf))"
   ]
  },
  {
   "cell_type": "markdown",
   "metadata": {},
   "source": [
    "<p> Let's create a a dataFrame called dataFileForFunction that will be used to test out our functions </p>"
   ]
  },
  {
   "cell_type": "code",
   "execution_count": 8,
   "metadata": {},
   "outputs": [
    {
     "name": "stdout",
     "output_type": "stream",
     "text": [
      "       Date  Category  Net worth   Assets\n",
      "0   1990:Q1      Top1    4804166  4937954\n",
      "1   1990:Q1     Next9    7673540  8185951\n",
      "2   1990:Q1    Next40    7389240  9002529\n",
      "3   1990:Q1  Bottom50     745375  1754951\n",
      "4   1990:Q2      Top1    4853012  4990769\n",
      "5   1990:Q2     Next9    7817059  8337327\n",
      "6   1990:Q2    Next40    7401466  9076700\n",
      "7   1990:Q2  Bottom50     768987  1771551\n",
      "8   1990:Q3      Top1    4650622  4796349\n",
      "9   1990:Q3     Next9    7796971  8325985\n",
      "10  1990:Q3    Next40    7476539  9147832\n",
      "11  1990:Q3  Bottom50     760551  1807703\n",
      "12  1990:Q4      Top1    4896405  5047552\n",
      "13  1990:Q4     Next9    7856916  8391995\n",
      "14  1990:Q4    Next40    7578682  9304035\n",
      "15  1990:Q4  Bottom50     774243  1814823\n",
      "16  1991:Q1      Top1    5218517  5372273\n",
      "17  1991:Q1     Next9    7910273  8443017\n",
      "18  1991:Q1    Next40    7664904  9462264\n",
      "19  1991:Q1  Bottom50     872879  1861797\n",
      "20  1991:Q2      Top1    5178317  5334449\n",
      "21  1991:Q2     Next9    7917859  8467829\n",
      "22  1991:Q2    Next40    7711572  9529863\n",
      "23  1991:Q2  Bottom50     897371  1904202\n",
      "24  1991:Q3      Top1    5283975  5435698\n",
      "25  1991:Q3     Next9    7905094  8496083\n",
      "26  1991:Q3    Next40    7912976  9667316\n",
      "27  1991:Q3  Bottom50     878020  1946758\n",
      "28  1991:Q4      Top1    5608407  5759094\n",
      "29  1991:Q4     Next9    8007424  8633023\n",
      "30  1991:Q4    Next40    8042088  9811143\n",
      "31  1991:Q4  Bottom50     921241  2019557\n"
     ]
    }
   ],
   "source": [
    "dataFileForFunction = pdf.copy();\n",
    "print(dataFileForFunction)"
   ]
  },
  {
   "cell_type": "markdown",
   "metadata": {},
   "source": [
    "## We first want to group the sums of each financial category by year "
   ]
  },
  {
   "cell_type": "markdown",
   "metadata": {},
   "source": [
    "#### To do that, we must first split the financial quarters in the \"Date\" column into a seperate column\n",
    "\n",
    "##### Two steps are needed to get that done\n",
    "- <p> Step A: Add an additional column named \"Quarter\" that represents each years quarter </p>\n",
    "- <p> Step B: Get only the year (first 4 characters) from the column</p>"
   ]
  },
  {
   "cell_type": "markdown",
   "metadata": {},
   "source": [
    "#### Step A\n",
    "<p> Add an additional column named \"Quarter\" that represents each years quarter </p>"
   ]
  },
  {
   "cell_type": "code",
   "execution_count": 9,
   "metadata": {},
   "outputs": [],
   "source": [
    "yearlyQuarters = (pdf[\"Date\"].astype(str).str.slice(start=5));\n",
    "# print ( yearlyQuarters )"
   ]
  },
  {
   "cell_type": "markdown",
   "metadata": {},
   "source": [
    "<p> Sources:</p>"
   ]
  },
  {
   "cell_type": "markdown",
   "metadata": {},
   "source": [
    "- [Substring of an entire column](https://stackoverflow.com/questions/36505847/substring-of-an-entire-column-in-pandas-dataframe#answer-36506041)\n",
    "- [Remove last the two digits in a column that is of integer type](https://stackoverflow.com/questions/33034559/how-to-remove-last-the-two-digits-in-a-column-that-is-of-integer-type#answer-33034619)\n",
    "- [Get last 4 characters of a string:](https://stackoverflow.com/questions/7983820/get-the-last-4-characters-of-a-string  )\n"
   ]
  },
  {
   "cell_type": "code",
   "execution_count": 10,
   "metadata": {},
   "outputs": [
    {
     "name": "stdout",
     "output_type": "stream",
     "text": [
      "      Date Quarter  Category  Net worth   Assets\n",
      "0  1990:Q1      Q1      Top1    4804166  4937954\n",
      "1  1990:Q1      Q1     Next9    7673540  8185951\n",
      "2  1990:Q1      Q1    Next40    7389240  9002529\n",
      "3  1990:Q1      Q1  Bottom50     745375  1754951\n",
      "4  1990:Q2      Q2      Top1    4853012  4990769\n",
      "5  1990:Q2      Q2     Next9    7817059  8337327\n",
      "6  1990:Q2      Q2    Next40    7401466  9076700\n",
      "7  1990:Q2      Q2  Bottom50     768987  1771551\n",
      "8  1990:Q3      Q3      Top1    4650622  4796349\n",
      "9  1990:Q3      Q3     Next9    7796971  8325985\n"
     ]
    }
   ],
   "source": [
    "# Code below ensures that the column 'Quarters' \n",
    "# will always be up to date to variable 'yearlyQuarters' & inserted to dataframe\n",
    "\n",
    "# If there exists any columns called \"Quarter\" in the DataFrame, delete it\n",
    "if 'Quarter' in pdf.columns:\n",
    "    pdf = pdf.drop(columns = 'Quarter')\n",
    "\n",
    "# If there doesn't exist any columns called \"Quarter\" in the DataFrame, add it\n",
    "if 'Quarter' not in pdf.columns:\n",
    "    pdf.insert ( 1, \"Quarter\", yearlyQuarters, True )\n",
    "\n",
    "# 1 column called \"Quarter\" will now be present in the dataframe \n",
    "\n",
    "print (pdf.head(10))"
   ]
  },
  {
   "cell_type": "markdown",
   "metadata": {},
   "source": [
    "<p> Source </p>"
   ]
  },
  {
   "cell_type": "markdown",
   "metadata": {},
   "source": [
    "- [Check if column exists](https://stackoverflow.com/questions/24870306/how-to-check-if-a-column-exists-in-pandas)\n",
    "- [Check if column not exists](https://stackoverflow.com/questions/25896453/pandas-add-column-if-does-not-exists)\n",
    "- [Add column to dataFrame](https://www.geeksforgeeks.org/adding-new-column-to-existing-dataframe-in-pandas/)"
   ]
  },
  {
   "cell_type": "markdown",
   "metadata": {},
   "source": [
    "#### Step B\n",
    "<p> Get only the first 4 characters from the column </p>"
   ]
  },
  {
   "cell_type": "markdown",
   "metadata": {},
   "source": [
    "<p> First, let's try to get the first 4 characters of first row for \"Date\" column </p>"
   ]
  },
  {
   "cell_type": "code",
   "execution_count": 11,
   "metadata": {},
   "outputs": [
    {
     "name": "stdout",
     "output_type": "stream",
     "text": [
      "1990\n"
     ]
    }
   ],
   "source": [
    "print(pdf[\"Date\"][0][0:4])"
   ]
  },
  {
   "cell_type": "markdown",
   "metadata": {},
   "source": [
    "<p> Likewise, if we try to get last 2 characters of first row, \"Date\" column"
   ]
  },
  {
   "cell_type": "code",
   "execution_count": 12,
   "metadata": {},
   "outputs": [
    {
     "name": "stdout",
     "output_type": "stream",
     "text": [
      "Q1\n"
     ]
    }
   ],
   "source": [
    "print(pdf[\"Date\"][0][-2:]);"
   ]
  },
  {
   "cell_type": "markdown",
   "metadata": {},
   "source": [
    "<p style = \"color: red;\"> The following code will not consistently work! </p>"
   ]
  },
  {
   "cell_type": "code",
   "execution_count": 13,
   "metadata": {},
   "outputs": [],
   "source": [
    "# pdf[\"Date\"] =  df[\"Date\"].astype(str).str[:-3].astype(\"int64\");\n",
    "# print (pdf)\n",
    "\n",
    "# The above code works, but whenever I ran the statement:\n",
    "# (pdf.head())\n",
    "# at the end of the my code, I would get an error.\n",
    "\n",
    "# This is because of the data type conversion"
   ]
  },
  {
   "cell_type": "markdown",
   "metadata": {},
   "source": [
    "The above faulty code was inspired by [this source](https://stackoverflow.com/questions/33034559/how-to-remove-last-the-two-digits-in-a-column-that-is-of-integer-type#answer-33034619)"
   ]
  },
  {
   "cell_type": "markdown",
   "metadata": {},
   "source": [
    "<p style = \"color: green;\"> \n",
    "    The code below works because the type of data we're parsing is a string\n",
    "</p>"
   ]
  },
  {
   "cell_type": "code",
   "execution_count": 14,
   "metadata": {},
   "outputs": [
    {
     "name": "stdout",
     "output_type": "stream",
     "text": [
      "   Date Quarter  Category  Net worth   Assets\n",
      "0  1990      Q1      Top1    4804166  4937954\n",
      "1  1990      Q1     Next9    7673540  8185951\n",
      "2  1990      Q1    Next40    7389240  9002529\n",
      "3  1990      Q1  Bottom50     745375  1754951\n",
      "4  1990      Q2      Top1    4853012  4990769\n",
      "5  1990      Q2     Next9    7817059  8337327\n",
      "6  1990      Q2    Next40    7401466  9076700\n",
      "7  1990      Q2  Bottom50     768987  1771551\n",
      "8  1990      Q3      Top1    4650622  4796349\n",
      "9  1990      Q3     Next9    7796971  8325985\n"
     ]
    }
   ],
   "source": [
    "for x in range (0, pdf[\"Date\"].size):\n",
    "    pdf[\"Date\"][x] = pdf[\"Date\"][x][0:4]\n",
    "    \n",
    "print ( pdf.head(10) )"
   ]
  },
  {
   "cell_type": "markdown",
   "metadata": {},
   "source": [
    "How to [index & slice a string](https://www.digitalocean.com/community/tutorials/how-to-index-and-slice-strings-in-python-3)"
   ]
  },
  {
   "cell_type": "markdown",
   "metadata": {},
   "source": [
    "<p> Let's now try to create a function for <b>Step A</b> and <b>Step B</b> </p>"
   ]
  },
  {
   "cell_type": "code",
   "execution_count": 15,
   "metadata": {},
   "outputs": [],
   "source": [
    "def addQuarterColumn (passedDataFrame):\n",
    "    yearlyQuarters = (passedDataFrame[\"Date\"].astype(str).str.slice(start=5));\n",
    "    if 'Quarter' in passedDataFrame.columns:\n",
    "        passedDataFrame = passedDataFrame.drop(columns = 'Quarter')\n",
    "    if 'Quarter' not in passedDataFrame.columns:\n",
    "        passedDataFrame.insert ( 1, \"Quarter\", yearlyQuarters, True )\n",
    "    return passedDataFrame\n",
    "\n",
    "def getYearforDateColumn (passedDataFrame):\n",
    "    for x in range (0, passedDataFrame[\"Date\"].size):\n",
    "        passedDataFrame[\"Date\"][x] = passedDataFrame[\"Date\"][x][0:4]\n",
    "    \n",
    "def splitQuartersAndUpdateDate (dataFrame):\n",
    "    dataFrame = addQuarterColumn(dataFrame);"
   ]
  },
  {
   "cell_type": "code",
   "execution_count": 16,
   "metadata": {},
   "outputs": [
    {
     "name": "stdout",
     "output_type": "stream",
     "text": [
      "None\n"
     ]
    }
   ],
   "source": [
    "dataFileForFunction = splitQuartersAndUpdateDate(dataFileForFunction);\n",
    "print(dataFileForFunction)"
   ]
  },
  {
   "cell_type": "markdown",
   "metadata": {},
   "source": [
    "## <p style = \"color: red\"> Now that we've split the financial quarters into a seperate column, we can group the sums of each financial category by year </p>"
   ]
  },
  {
   "cell_type": "code",
   "execution_count": 17,
   "metadata": {
    "scrolled": true
   },
   "outputs": [
    {
     "name": "stdout",
     "output_type": "stream",
     "text": [
      "   Date  Category  Net worth    Assets\n",
      "0  1990  Bottom50    3049156   7149028\n",
      "1  1990    Next40   29845927  36531096\n",
      "2  1990     Next9   31144486  33241258\n",
      "3  1990      Top1   19204205  19772624\n",
      "4  1991  Bottom50    3569511   7732314\n",
      "5  1991    Next40   31331540  38470586\n",
      "6  1991     Next9   31740650  34039952\n",
      "7  1991      Top1   21289216  21901514\n"
     ]
    }
   ],
   "source": [
    "groupByQuarter = pdf.groupby([\"Date\", \"Category\"], as_index=False).sum();\n",
    "print groupByQuarter"
   ]
  },
  {
   "cell_type": "code",
   "execution_count": 18,
   "metadata": {},
   "outputs": [
    {
     "name": "stdout",
     "output_type": "stream",
     "text": [
      "Columns in above dataFrame:\n",
      "Date\n",
      "Category\n",
      "Net worth\n",
      "Assets\n"
     ]
    }
   ],
   "source": [
    "print (\"Columns in above dataFrame:\")\n",
    "for x in groupByQuarter: print ( x ) "
   ]
  },
  {
   "cell_type": "markdown",
   "metadata": {},
   "source": [
    "[Group by sum of certain column source](https://stackoverflow.com/questions/32751229/pandas-sum-by-groupby-but-exclude-certain-columns)\n",
    "\n",
    "But more importantly,\n",
    "[Fix grouped by column that's gone](https://stackoverflow.com/questions/41658498/in-pandas-after-groupby-the-grouped-column-is-gone)"
   ]
  },
  {
   "cell_type": "markdown",
   "metadata": {},
   "source": [
    "### Safety Check\n",
    "<p> Confirm that the top 1% net worth in 1990 is 19204205 </p> "
   ]
  },
  {
   "cell_type": "code",
   "execution_count": 19,
   "metadata": {
    "scrolled": false
   },
   "outputs": [
    {
     "name": "stdout",
     "output_type": "stream",
     "text": [
      "Networth of Top 1% in 1990 per Quarter\n",
      "    Date Quarter Category  Net worth   Assets\n",
      "0   1990      Q1     Top1    4804166  4937954\n",
      "4   1990      Q2     Top1    4853012  4990769\n",
      "8   1990      Q3     Top1    4650622  4796349\n",
      "12  1990      Q4     Top1    4896405  5047552\n",
      "\n",
      "\n",
      "Total Sum of the above Net Worth column:\n",
      "19204205\n"
     ]
    }
   ],
   "source": [
    "groupByTop1And1990 = pdf.groupby([\"Category\"])\n",
    "groupByTop1And1990 = groupByTop1And1990.get_group(\"Top1\")\n",
    "groupByTop1And1990 = groupByTop1And1990.groupby([\"Date\"])\n",
    "groupByTop1And1990 = groupByTop1And1990.get_group(\"1990\")\n",
    "\n",
    "print (\"Networth of Top 1% in 1990 per Quarter\");\n",
    "print (groupByTop1And1990)\n",
    "print ( \"\\n\" )\n",
    "print (\"Total Sum of the above Net Worth column:\")\n",
    "print (groupByTop1And1990[\"Net worth\"].sum())"
   ]
  },
  {
   "cell_type": "markdown",
   "metadata": {},
   "source": [
    "#### Let's now plot a simple graph!\n",
    "<p> We will be plotting net worth of top 1%, next 9% & bottom 50% for 1990 & 1991 </p>"
   ]
  },
  {
   "cell_type": "markdown",
   "metadata": {},
   "source": [
    "##### Create an array that stores net worth for top 1% for 1990 & 1991"
   ]
  },
  {
   "cell_type": "code",
   "execution_count": 20,
   "metadata": {
    "scrolled": true
   },
   "outputs": [],
   "source": [
    "unique_years = groupByQuarter[\"Date\"].unique()\n",
    "\n",
    "networthforTop1 = []\n",
    "networthforNext9 = []\n",
    "networthforBot50 = []\n",
    "\n",
    "for x in range ( int(unique_years[0]), int(unique_years[-1]) + 1 ):\n",
    "#     print x;\n",
    "    networthforTop1.append( groupByQuarter[[\"Net worth\"]][(groupByQuarter[\"Date\"] == str(x)) & (groupByQuarter[\"Category\"] == \"Top1\")])\n",
    "    networthforNext9.append( groupByQuarter[[\"Net worth\"]][(groupByQuarter[\"Date\"] == str(x)) & (groupByQuarter[\"Category\"] == \"Next9\")])\n",
    "    networthforBot50.append( groupByQuarter[[\"Net worth\"]][(groupByQuarter[\"Date\"] == str(x)) & (groupByQuarter[\"Category\"] == \"Bottom50\")])"
   ]
  },
  {
   "cell_type": "markdown",
   "metadata": {},
   "source": [
    "<p> \n",
    "    Naturally if you examined the variable type of networthforTop1, you would assume that it's a list of integers, right? Well, you're only partially right. Take a look below:\n",
    "</p>"
   ]
  },
  {
   "cell_type": "code",
   "execution_count": 21,
   "metadata": {},
   "outputs": [
    {
     "name": "stdout",
     "output_type": "stream",
     "text": [
      "<type 'list'>\n",
      "<class 'pandas.core.frame.DataFrame'>\n"
     ]
    }
   ],
   "source": [
    "print ( type ( networthforTop1 ) )\n",
    "print ( type ( networthforTop1[0] ) )"
   ]
  },
  {
   "cell_type": "markdown",
   "metadata": {},
   "source": [
    "<p> \n",
    "    Furthermore, I had to go deeper into the rabbit hole to get what I wanted: the simple net worth (as an int) associated to the top 1% for 1990\n",
    "</p>"
   ]
  },
  {
   "cell_type": "code",
   "execution_count": 22,
   "metadata": {},
   "outputs": [
    {
     "name": "stdout",
     "output_type": "stream",
     "text": [
      "<type 'list'>\n",
      "<class 'pandas.core.frame.DataFrame'>\n",
      "<class 'pandas.core.series.Series'>\n",
      "<type 'int'>\n"
     ]
    }
   ],
   "source": [
    "print ( type ( networthforTop1 ) )\n",
    "print ( type ( networthforTop1[0] ) )\n",
    "print ( type ( networthforTop1[0][\"Net worth\"] ) )\n",
    "print ( type ( int( networthforTop1[0][\"Net worth\"] ) ) )"
   ]
  },
  {
   "cell_type": "markdown",
   "metadata": {},
   "source": [
    "The code below will now make sure that the values in the list networthForTop1 are ints"
   ]
  },
  {
   "cell_type": "code",
   "execution_count": 23,
   "metadata": {},
   "outputs": [],
   "source": [
    "for x in range ( 0, len(networthforTop1) ):\n",
    "    networthforTop1[x] = int(networthforTop1[x][\"Net worth\"])"
   ]
  },
  {
   "cell_type": "markdown",
   "metadata": {},
   "source": [
    "<p>Let's go through this list & make sure that the values are in fact ints</p> "
   ]
  },
  {
   "cell_type": "code",
   "execution_count": 24,
   "metadata": {},
   "outputs": [
    {
     "name": "stdout",
     "output_type": "stream",
     "text": [
      "19204205\n",
      "21289216\n",
      "(<type 'list'>, <type 'int'>)\n"
     ]
    }
   ],
   "source": [
    "for i in range(0, len(networthforTop1)):\n",
    "     print ( networthforTop1[i] )\n",
    "        \n",
    "print ( type(networthforTop1), type(networthforTop1[0]) );"
   ]
  },
  {
   "cell_type": "markdown",
   "metadata": {},
   "source": [
    "<p> Let us now convert the remaining lists of dataFrames into a list of ints </p>"
   ]
  },
  {
   "cell_type": "code",
   "execution_count": 25,
   "metadata": {},
   "outputs": [],
   "source": [
    "for x in range ( 0, len(networthforNext9) ):\n",
    "    networthforNext9[x] = int(networthforNext9[x][\"Net worth\"])"
   ]
  },
  {
   "cell_type": "code",
   "execution_count": 26,
   "metadata": {},
   "outputs": [],
   "source": [
    "for x in range ( 0, len(networthforBot50) ):\n",
    "    networthforBot50[x] = int(networthforBot50[x][\"Net worth\"])"
   ]
  },
  {
   "cell_type": "markdown",
   "metadata": {},
   "source": [
    "<p> Let us now print each list </p>"
   ]
  },
  {
   "cell_type": "code",
   "execution_count": 27,
   "metadata": {},
   "outputs": [
    {
     "name": "stdout",
     "output_type": "stream",
     "text": [
      "Net worth for Next9 for years 1990 & 1991\n",
      "31144486\n",
      "31740650\n",
      "\n",
      "Net worth for Bottom 50 for years 1990 & 1991\n",
      "3049156\n",
      "3569511\n"
     ]
    }
   ],
   "source": [
    "print ( \"Net worth for Next9 for years 1990 & 1991\")\n",
    "for i in range(0, len(networthforNext9)):\n",
    "     print ( networthforNext9[i] )\n",
    "        \n",
    "print ( \"\\nNet worth for Bottom 50 for years 1990 & 1991\")\n",
    "for i in range(0, len(networthforBot50)):\n",
    "     print ( networthforBot50[i] )"
   ]
  },
  {
   "cell_type": "markdown",
   "metadata": {},
   "source": [
    "#### Let's now make a simple plot graph"
   ]
  },
  {
   "cell_type": "code",
   "execution_count": 28,
   "metadata": {},
   "outputs": [
    {
     "data": {
      "image/png": "[encoded data removed]",
      "text/plain": [
       "<Figure size 432x288 with 1 Axes>"
      ]
     },
     "metadata": {
      "needs_background": "light"
     },
     "output_type": "display_data"
    }
   ],
   "source": [
    "yearsRange = [1990, 1991];\n",
    "\n",
    "plt.plot(yearsRange, networthforTop1)\n",
    "plt.plot(yearsRange, networthforNext9 )\n",
    "plt.plot(yearsRange, networthforBot50)\n",
    "plt.axis ([1970,2000, 0, 50000000])\n",
    "plt.legend(['Top 1 %', 'Next 9 %', 'Bottom 50%'], loc = 'upper left')\n",
    "\n",
    "plt.show()"
   ]
  },
  {
   "cell_type": "markdown",
   "metadata": {},
   "source": [
    "### Now that we've grouped the sums of each financial category for years 1990 & 1991, let's now group the original data"
   ]
  }
 ],
 "metadata": {
  "kernelspec": {
   "display_name": "Python 2",
   "language": "python",
   "name": "python2"
  },
  "language_info": {
   "codemirror_mode": {
    "name": "ipython",
    "version": 2
   },
   "file_extension": ".py",
   "mimetype": "text/x-python",
   "name": "python",
   "nbconvert_exporter": "python",
   "pygments_lexer": "ipython2",
   "version": "2.7.12"
  }
 },
 "nbformat": 4,
 "nbformat_minor": 2
}
